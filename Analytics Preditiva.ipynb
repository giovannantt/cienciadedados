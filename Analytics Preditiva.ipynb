{
  "cells": [
    {
      "cell_type": "markdown",
      "metadata": {
        "id": "q9Hg7Ou5My-t"
      },
      "source": [
        "Desafio 03 - Comparação RN e CNN <br>\n",
        "Aluna: Giovanna de Sá Tabosa <br>\n",
        "Classificar um dataset e comparar a diferença de performance dos modelos ao usar as abordagens de ML e DL no mesmo problema.\n"
      ]
    },
    {
      "cell_type": "markdown",
      "source": [
        "# Importação das bibliotecas necessárias"
      ],
      "metadata": {
        "id": "y3IN3nOC4lXb"
      }
    },
    {
      "cell_type": "code",
      "execution_count": null,
      "metadata": {
        "id": "lRfX94kAGSZ7",
        "colab": {
          "base_uri": "https://localhost:8080/"
        },
        "outputId": "93a8540c-1986-4492-da37-5208f92f8860"
      },
      "outputs": [
        {
          "output_type": "stream",
          "name": "stdout",
          "text": [
            "Drive already mounted at /content/drive; to attempt to forcibly remount, call drive.mount(\"/content/drive\", force_remount=True).\n"
          ]
        }
      ],
      "source": [
        "#Conexão com o drive\n",
        "from google.colab import files\n",
        "from google.colab import drive\n",
        "drive.mount('/content/drive')"
      ]
    },
    {
      "cell_type": "code",
      "source": [
        "import numpy as np\n",
        "import tensorflow.keras as keras\n",
        "import pandas as pd"
      ],
      "metadata": {
        "id": "kO6qgQk7cT7W"
      },
      "execution_count": null,
      "outputs": []
    },
    {
      "cell_type": "code",
      "source": [
        "from tensorflow.keras.models import Sequential\n",
        "from tensorflow.keras.utils import to_categorical\n"
      ],
      "metadata": {
        "id": "Z3kIt4_9DK9Y"
      },
      "execution_count": null,
      "outputs": []
    },
    {
      "cell_type": "markdown",
      "source": [
        "# Carregamento, verificação e transformação dos dados"
      ],
      "metadata": {
        "id": "NA1c14G48pIp"
      }
    },
    {
      "cell_type": "markdown",
      "source": [
        "Foi utilizado o conjunto de dados **CIFAR-10** retirado do site kaggle, o dataset contém 60.000 imagens coloridas em 10 classes diferentes (avião, carro, pássaro, gato, etc.), com 6.000 imagens por classe."
      ],
      "metadata": {
        "id": "GDyCeZrV5Ic8"
      }
    },
    {
      "cell_type": "code",
      "execution_count": null,
      "metadata": {
        "collapsed": true,
        "id": "tazHnWM_6bHt"
      },
      "outputs": [],
      "source": [
        "#Carregmento do conjunto de dados\n",
        "train_df = pd.read_csv(\"/content/drive/My Drive/dados_mba/dataset/train.csv\")\n",
        "valid_df = pd.read_csv(\"/content/drive/My Drive/dados_mba/dataset/valid.csv\")\n",
        "\n",
        "#Carregando o módulo do conjunto de dados Keras para CIFAR-10:\n",
        "from tensorflow.keras.datasets import cifar10\n",
        "\n",
        "#Divididos entre conjuntos de treinamento e validação\n",
        "(X_train, y_train), (x_valid, y_valid) = cifar10.load_data()"
      ]
    },
    {
      "cell_type": "code",
      "execution_count": null,
      "metadata": {
        "id": "bkm_68zuK0wT"
      },
      "outputs": [],
      "source": [
        "#Verificação dos dados de treinamento\n",
        "train_df.head()"
      ]
    },
    {
      "cell_type": "code",
      "source": [
        "#Verificação dos dados de validação\n",
        "valid_df.head()"
      ],
      "metadata": {
        "id": "NubDfMM--LPg"
      },
      "execution_count": null,
      "outputs": []
    },
    {
      "cell_type": "markdown",
      "source": [
        "# Resumindo os dados de treinamento e validação"
      ],
      "metadata": {
        "id": "78GXEigoFOOP"
      }
    },
    {
      "cell_type": "code",
      "source": [
        "X_train.shape"
      ],
      "metadata": {
        "id": "hLE5PMXzFP0F",
        "colab": {
          "base_uri": "https://localhost:8080/"
        },
        "outputId": "d50835c3-311a-4372-bb09-ca73a38afd1e"
      },
      "execution_count": null,
      "outputs": [
        {
          "output_type": "execute_result",
          "data": {
            "text/plain": [
              "(50000, 32, 32, 3)"
            ]
          },
          "metadata": {},
          "execution_count": 50
        }
      ]
    },
    {
      "cell_type": "markdown",
      "source": [
        "50000: Número de imagens de treinamento <br> (32,32,3): dimensão da imagem 3272"
      ],
      "metadata": {
        "id": "sWJWIBEPLnZ9"
      }
    },
    {
      "cell_type": "code",
      "source": [
        "y_train.shape"
      ],
      "metadata": {
        "id": "1njXOdSlFTub",
        "colab": {
          "base_uri": "https://localhost:8080/"
        },
        "outputId": "d9f0cfa2-077a-4222-a27e-18006df02ed5"
      },
      "execution_count": null,
      "outputs": [
        {
          "output_type": "execute_result",
          "data": {
            "text/plain": [
              "(50000, 1)"
            ]
          },
          "metadata": {},
          "execution_count": 51
        }
      ]
    },
    {
      "cell_type": "markdown",
      "source": [
        "50000: Número de rótulos de treinamento (um para cada imagem)<br>\n",
        "1: Cada rótulo é uma única entrada (a classe da imagem)"
      ],
      "metadata": {
        "id": "YZE3HVURLxtG"
      }
    },
    {
      "cell_type": "code",
      "source": [
        "x_valid.shape"
      ],
      "metadata": {
        "id": "-Eaaqw3cFWBD",
        "colab": {
          "base_uri": "https://localhost:8080/"
        },
        "outputId": "746049cc-cf61-4ce0-e6dc-f742d129634a"
      },
      "execution_count": null,
      "outputs": [
        {
          "output_type": "execute_result",
          "data": {
            "text/plain": [
              "(10000, 32, 32, 3)"
            ]
          },
          "metadata": {},
          "execution_count": 52
        }
      ]
    },
    {
      "cell_type": "markdown",
      "source": [
        "10000: Número de imagens de validação <br>\n",
        "(32,32,3): dimensão da imagem 3272"
      ],
      "metadata": {
        "id": "y9o_9_MoNgQ_"
      }
    },
    {
      "cell_type": "code",
      "source": [
        "y_valid.shape"
      ],
      "metadata": {
        "id": "ykFz2KM2FX_r",
        "colab": {
          "base_uri": "https://localhost:8080/"
        },
        "outputId": "872ddead-4e63-4602-d4de-04bd5a701e16"
      },
      "execution_count": null,
      "outputs": [
        {
          "output_type": "execute_result",
          "data": {
            "text/plain": [
              "(10000, 1)"
            ]
          },
          "metadata": {},
          "execution_count": 53
        }
      ]
    },
    {
      "cell_type": "markdown",
      "source": [
        "10000: Número de rótulos de teste <br>\n",
        "1: Cada rótulo é uma única entrada\n"
      ],
      "metadata": {
        "id": "X2QuZW9yNq1h"
      }
    },
    {
      "cell_type": "markdown",
      "source": [
        "# Extração das imagens"
      ],
      "metadata": {
        "id": "ylGLTDsFPghN"
      }
    },
    {
      "cell_type": "code",
      "source": [
        "#Armazenamendo das imagens de treinamento e validação nas variáveis\n",
        "x_train = train_df.values\n",
        "x_valid = valid_df.values"
      ],
      "metadata": {
        "id": "dD37knjuPf5T"
      },
      "execution_count": null,
      "outputs": []
    },
    {
      "cell_type": "markdown",
      "source": [
        "# Categorizando as imagens"
      ],
      "metadata": {
        "id": "4Io1Wtj4QFmE"
      }
    },
    {
      "cell_type": "code",
      "source": [
        "#Carregamento do dataset CIFAR-10\n",
        "(X_train, y_train), (X_test, y_test) = cifar10.load_data()\n",
        "num_classes = 24\n",
        "\n",
        "#Conversão dos rótulos para uma codificação categórica\n",
        "y_train_categorical = to_categorical(y_train, 10)\n",
        "y_test_categorical = to_categorical(y_test, 10)\n"
      ],
      "metadata": {
        "id": "3bDi6NlWDADp"
      },
      "execution_count": null,
      "outputs": []
    },
    {
      "cell_type": "markdown",
      "source": [
        "# Visualizando os Dados\n",
        "Para a vizualização, foi preciso remodelar os dados de sua forma atual de 3072 pixels para uma forma 2D de 32x32x3 pixels para dar sentido à imagem e também redimensioná-la."
      ],
      "metadata": {
        "id": "Kdeg7YyEKVIq"
      }
    },
    {
      "cell_type": "code",
      "source": [
        "import matplotlib.pyplot as plt\n",
        "plt.figure(figsize=(40, 40))\n",
        "\n",
        "num_images = 20\n",
        "for i in range(num_images):\n",
        "    row = x_train[i]\n",
        "    label = y_train[i]\n",
        "\n",
        "    #No Dataset usado, as imagens têm 32x32x3\n",
        "    #Usando os 3072 elementos e redimensionando\n",
        "    image = row[:3072].reshape(32,32,3)\n",
        "    plt.subplot(1, num_images, i+1)\n",
        "    plt.title(label, fontdict={'fontsize': 30})\n",
        "    plt.axis('off')\n",
        "    plt.imshow(image)\n",
        "    plt.show()\n"
      ],
      "metadata": {
        "id": "Jbmh0YpCHNIN"
      },
      "execution_count": null,
      "outputs": []
    },
    {
      "cell_type": "markdown",
      "source": [
        "# Normalização dos dados da imagem"
      ],
      "metadata": {
        "id": "YdVWgpUqJrsB"
      }
    },
    {
      "cell_type": "code",
      "source": [
        "x_train.min()"
      ],
      "metadata": {
        "colab": {
          "base_uri": "https://localhost:8080/"
        },
        "id": "-wbhwKnlJ0yR",
        "outputId": "b3a02684-23e9-46a5-f648-7c8baa841d8f"
      },
      "execution_count": null,
      "outputs": [
        {
          "output_type": "execute_result",
          "data": {
            "text/plain": [
              "0"
            ]
          },
          "metadata": {},
          "execution_count": 57
        }
      ]
    },
    {
      "cell_type": "code",
      "source": [
        "x_train.max()"
      ],
      "metadata": {
        "colab": {
          "base_uri": "https://localhost:8080/"
        },
        "id": "7Ig5GVjwJ3X4",
        "outputId": "4c6e1eb2-38fb-4c81-b4bf-66fdc3578f5b"
      },
      "execution_count": null,
      "outputs": [
        {
          "output_type": "execute_result",
          "data": {
            "text/plain": [
              "255"
            ]
          },
          "metadata": {},
          "execution_count": 58
        }
      ]
    },
    {
      "cell_type": "code",
      "source": [
        "#Normalização os dados (Valor max=255)\n",
        "x_train = x_train / 255\n",
        "x_valid = x_valid / 255"
      ],
      "metadata": {
        "id": "pmPPF-bJJ6Uj"
      },
      "execution_count": null,
      "outputs": []
    },
    {
      "cell_type": "code",
      "source": [
        "x_train.min()"
      ],
      "metadata": {
        "colab": {
          "base_uri": "https://localhost:8080/"
        },
        "id": "PWDfKcMg9Svw",
        "outputId": "c2643863-d774-4d7f-e7e6-5edd32f69fe5"
      },
      "execution_count": null,
      "outputs": [
        {
          "output_type": "execute_result",
          "data": {
            "text/plain": [
              "0.0"
            ]
          },
          "metadata": {},
          "execution_count": 60
        }
      ]
    },
    {
      "cell_type": "code",
      "source": [
        "x_train.max()"
      ],
      "metadata": {
        "colab": {
          "base_uri": "https://localhost:8080/"
        },
        "id": "oSk7drz-9T6H",
        "outputId": "5168428a-f969-4929-d842-ff1d2ab6d8c0"
      },
      "execution_count": null,
      "outputs": [
        {
          "output_type": "execute_result",
          "data": {
            "text/plain": [
              "1.0"
            ]
          },
          "metadata": {},
          "execution_count": 61
        }
      ]
    },
    {
      "cell_type": "code",
      "source": [
        "#Excluindo coluna extra do conjunto treinamento x_train que apresenta 3073 colunas\n",
        "x_train = x_train[:, :3072]\n"
      ],
      "metadata": {
        "id": "pf2dEXyrFgtz"
      },
      "execution_count": null,
      "outputs": []
    },
    {
      "cell_type": "markdown",
      "source": [
        "# Construção o modelo"
      ],
      "metadata": {
        "id": "UeIOq9cmQrpE"
      }
    },
    {
      "cell_type": "code",
      "source": [
        "#Instanciando o modelo\n",
        "from tensorflow.keras.models import Sequential\n",
        "\n",
        "model = Sequential()"
      ],
      "metadata": {
        "id": "sBad4EHV9hZY"
      },
      "execution_count": null,
      "outputs": []
    },
    {
      "cell_type": "code",
      "source": [
        "#Criando os dados de entrada\n",
        "from tensorflow.keras.layers import Dense"
      ],
      "metadata": {
        "id": "Y5U9WK_L9joQ"
      },
      "execution_count": null,
      "outputs": []
    },
    {
      "cell_type": "code",
      "source": [
        "model.add(Dense(units=512, activation='relu', input_shape=(3072,)))"
      ],
      "metadata": {
        "id": "kOkWh5FS9l-3"
      },
      "execution_count": null,
      "outputs": []
    },
    {
      "cell_type": "code",
      "source": [
        "model.add(Dense(units = 512, activation='relu'))"
      ],
      "metadata": {
        "id": "xucmb74v9pif"
      },
      "execution_count": null,
      "outputs": []
    },
    {
      "cell_type": "code",
      "source": [
        "#Criando os dados de saída\n",
        "model.add(Dense(units = 10, activation='softmax'))"
      ],
      "metadata": {
        "id": "soojoXfc9s8I"
      },
      "execution_count": null,
      "outputs": []
    },
    {
      "cell_type": "code",
      "source": [
        "#Verificando os dados de treinamento e validação\n",
        "print(x_train.shape)\n",
        "print(x_valid.shape)\n"
      ],
      "metadata": {
        "colab": {
          "base_uri": "https://localhost:8080/"
        },
        "id": "P1hKpi5mFSVi",
        "outputId": "1fd5cc01-c839-4b80-e4ec-9fa6997dc99e"
      },
      "execution_count": null,
      "outputs": [
        {
          "output_type": "stream",
          "name": "stdout",
          "text": [
            "(50000, 3072)\n",
            "(10000, 3072)\n"
          ]
        }
      ]
    },
    {
      "cell_type": "code",
      "source": [
        "#Resumindo o modelo\n",
        "model.summary()"
      ],
      "metadata": {
        "id": "0anojnNlS4TH",
        "colab": {
          "base_uri": "https://localhost:8080/",
          "height": 238
        },
        "outputId": "fca2a98a-5194-4dc4-fdc2-795cc8ddb2ec"
      },
      "execution_count": null,
      "outputs": [
        {
          "output_type": "display_data",
          "data": {
            "text/plain": [
              "\u001b[1mModel: \"sequential_8\"\u001b[0m\n"
            ],
            "text/html": [
              "<pre style=\"white-space:pre;overflow-x:auto;line-height:normal;font-family:Menlo,'DejaVu Sans Mono',consolas,'Courier New',monospace\"><span style=\"font-weight: bold\">Model: \"sequential_8\"</span>\n",
              "</pre>\n"
            ]
          },
          "metadata": {}
        },
        {
          "output_type": "display_data",
          "data": {
            "text/plain": [
              "┏━━━━━━━━━━━━━━━━━━━━━━━━━━━━━━━━━━━━━━┳━━━━━━━━━━━━━━━━━━━━━━━━━━━━━┳━━━━━━━━━━━━━━━━━┓\n",
              "┃\u001b[1m \u001b[0m\u001b[1mLayer (type)                        \u001b[0m\u001b[1m \u001b[0m┃\u001b[1m \u001b[0m\u001b[1mOutput Shape               \u001b[0m\u001b[1m \u001b[0m┃\u001b[1m \u001b[0m\u001b[1m        Param #\u001b[0m\u001b[1m \u001b[0m┃\n",
              "┡━━━━━━━━━━━━━━━━━━━━━━━━━━━━━━━━━━━━━━╇━━━━━━━━━━━━━━━━━━━━━━━━━━━━━╇━━━━━━━━━━━━━━━━━┩\n",
              "│ dense_13 (\u001b[38;5;33mDense\u001b[0m)                     │ (\u001b[38;5;45mNone\u001b[0m, \u001b[38;5;34m512\u001b[0m)                 │       \u001b[38;5;34m1,573,376\u001b[0m │\n",
              "├──────────────────────────────────────┼─────────────────────────────┼─────────────────┤\n",
              "│ dense_14 (\u001b[38;5;33mDense\u001b[0m)                     │ (\u001b[38;5;45mNone\u001b[0m, \u001b[38;5;34m512\u001b[0m)                 │         \u001b[38;5;34m262,656\u001b[0m │\n",
              "├──────────────────────────────────────┼─────────────────────────────┼─────────────────┤\n",
              "│ dense_15 (\u001b[38;5;33mDense\u001b[0m)                     │ (\u001b[38;5;45mNone\u001b[0m, \u001b[38;5;34m10\u001b[0m)                  │           \u001b[38;5;34m5,130\u001b[0m │\n",
              "└──────────────────────────────────────┴─────────────────────────────┴─────────────────┘\n"
            ],
            "text/html": [
              "<pre style=\"white-space:pre;overflow-x:auto;line-height:normal;font-family:Menlo,'DejaVu Sans Mono',consolas,'Courier New',monospace\">┏━━━━━━━━━━━━━━━━━━━━━━━━━━━━━━━━━━━━━━┳━━━━━━━━━━━━━━━━━━━━━━━━━━━━━┳━━━━━━━━━━━━━━━━━┓\n",
              "┃<span style=\"font-weight: bold\"> Layer (type)                         </span>┃<span style=\"font-weight: bold\"> Output Shape                </span>┃<span style=\"font-weight: bold\">         Param # </span>┃\n",
              "┡━━━━━━━━━━━━━━━━━━━━━━━━━━━━━━━━━━━━━━╇━━━━━━━━━━━━━━━━━━━━━━━━━━━━━╇━━━━━━━━━━━━━━━━━┩\n",
              "│ dense_13 (<span style=\"color: #0087ff; text-decoration-color: #0087ff\">Dense</span>)                     │ (<span style=\"color: #00d7ff; text-decoration-color: #00d7ff\">None</span>, <span style=\"color: #00af00; text-decoration-color: #00af00\">512</span>)                 │       <span style=\"color: #00af00; text-decoration-color: #00af00\">1,573,376</span> │\n",
              "├──────────────────────────────────────┼─────────────────────────────┼─────────────────┤\n",
              "│ dense_14 (<span style=\"color: #0087ff; text-decoration-color: #0087ff\">Dense</span>)                     │ (<span style=\"color: #00d7ff; text-decoration-color: #00d7ff\">None</span>, <span style=\"color: #00af00; text-decoration-color: #00af00\">512</span>)                 │         <span style=\"color: #00af00; text-decoration-color: #00af00\">262,656</span> │\n",
              "├──────────────────────────────────────┼─────────────────────────────┼─────────────────┤\n",
              "│ dense_15 (<span style=\"color: #0087ff; text-decoration-color: #0087ff\">Dense</span>)                     │ (<span style=\"color: #00d7ff; text-decoration-color: #00d7ff\">None</span>, <span style=\"color: #00af00; text-decoration-color: #00af00\">10</span>)                  │           <span style=\"color: #00af00; text-decoration-color: #00af00\">5,130</span> │\n",
              "└──────────────────────────────────────┴─────────────────────────────┴─────────────────┘\n",
              "</pre>\n"
            ]
          },
          "metadata": {}
        },
        {
          "output_type": "display_data",
          "data": {
            "text/plain": [
              "\u001b[1m Total params: \u001b[0m\u001b[38;5;34m1,841,162\u001b[0m (7.02 MB)\n"
            ],
            "text/html": [
              "<pre style=\"white-space:pre;overflow-x:auto;line-height:normal;font-family:Menlo,'DejaVu Sans Mono',consolas,'Courier New',monospace\"><span style=\"font-weight: bold\"> Total params: </span><span style=\"color: #00af00; text-decoration-color: #00af00\">1,841,162</span> (7.02 MB)\n",
              "</pre>\n"
            ]
          },
          "metadata": {}
        },
        {
          "output_type": "display_data",
          "data": {
            "text/plain": [
              "\u001b[1m Trainable params: \u001b[0m\u001b[38;5;34m1,841,162\u001b[0m (7.02 MB)\n"
            ],
            "text/html": [
              "<pre style=\"white-space:pre;overflow-x:auto;line-height:normal;font-family:Menlo,'DejaVu Sans Mono',consolas,'Courier New',monospace\"><span style=\"font-weight: bold\"> Trainable params: </span><span style=\"color: #00af00; text-decoration-color: #00af00\">1,841,162</span> (7.02 MB)\n",
              "</pre>\n"
            ]
          },
          "metadata": {}
        },
        {
          "output_type": "display_data",
          "data": {
            "text/plain": [
              "\u001b[1m Non-trainable params: \u001b[0m\u001b[38;5;34m0\u001b[0m (0.00 B)\n"
            ],
            "text/html": [
              "<pre style=\"white-space:pre;overflow-x:auto;line-height:normal;font-family:Menlo,'DejaVu Sans Mono',consolas,'Courier New',monospace\"><span style=\"font-weight: bold\"> Non-trainable params: </span><span style=\"color: #00af00; text-decoration-color: #00af00\">0</span> (0.00 B)\n",
              "</pre>\n"
            ]
          },
          "metadata": {}
        }
      ]
    },
    {
      "cell_type": "markdown",
      "source": [
        "Total de parâmetros:  1.841.162 <br>\n",
        "Parâmetros treináveis: 1.841.162<br>\n",
        "Parâmetros não treináveis: 0 <br>"
      ],
      "metadata": {
        "id": "6l-v5XW1ddcl"
      }
    },
    {
      "cell_type": "code",
      "source": [
        "#Compilando o modelo\n",
        "model.compile(loss=\"sparse_categorical_crossentropy\", metrics=[\"accuracy\"])"
      ],
      "metadata": {
        "id": "hEDL6EFhS9vn"
      },
      "execution_count": null,
      "outputs": []
    },
    {
      "cell_type": "code",
      "source": [
        "#Treinando o modelo\n",
        "history = model.fit(\n",
        "    x_train, y_train, epochs=5, verbose=1, validation_data=(x_valid, y_valid)\n",
        ")"
      ],
      "metadata": {
        "id": "4TKRAbFIl_iK",
        "colab": {
          "base_uri": "https://localhost:8080/"
        },
        "outputId": "a14b834b-520a-4fdb-ecff-b564b62470a9"
      },
      "execution_count": null,
      "outputs": [
        {
          "output_type": "stream",
          "name": "stdout",
          "text": [
            "Epoch 1/5\n",
            "\u001b[1m1563/1563\u001b[0m \u001b[32m━━━━━━━━━━━━━━━━━━━━\u001b[0m\u001b[37m\u001b[0m \u001b[1m37s\u001b[0m 23ms/step - accuracy: 0.2573 - loss: 2.1512 - val_accuracy: 0.3649 - val_loss: 1.7594\n",
            "Epoch 2/5\n",
            "\u001b[1m1563/1563\u001b[0m \u001b[32m━━━━━━━━━━━━━━━━━━━━\u001b[0m\u001b[37m\u001b[0m \u001b[1m40s\u001b[0m 23ms/step - accuracy: 0.3810 - loss: 1.7364 - val_accuracy: 0.4298 - val_loss: 1.6178\n",
            "Epoch 3/5\n",
            "\u001b[1m1563/1563\u001b[0m \u001b[32m━━━━━━━━━━━━━━━━━━━━\u001b[0m\u001b[37m\u001b[0m \u001b[1m40s\u001b[0m 23ms/step - accuracy: 0.4117 - loss: 1.6419 - val_accuracy: 0.3599 - val_loss: 1.8473\n",
            "Epoch 4/5\n",
            "\u001b[1m1563/1563\u001b[0m \u001b[32m━━━━━━━━━━━━━━━━━━━━\u001b[0m\u001b[37m\u001b[0m \u001b[1m44s\u001b[0m 24ms/step - accuracy: 0.4307 - loss: 1.5905 - val_accuracy: 0.3309 - val_loss: 1.9929\n",
            "Epoch 5/5\n",
            "\u001b[1m1563/1563\u001b[0m \u001b[32m━━━━━━━━━━━━━━━━━━━━\u001b[0m\u001b[37m\u001b[0m \u001b[1m41s\u001b[0m 24ms/step - accuracy: 0.4413 - loss: 1.5708 - val_accuracy: 0.4223 - val_loss: 1.6427\n"
          ]
        }
      ]
    },
    {
      "cell_type": "markdown",
      "source": [
        "**Treinamento:**<br>\n",
        "Começou com uma precisão de 25,73% na primeira época e aumentou para 44,13% na quinta época. <br>\n",
        "**Validação:**<br>\n",
        "A precisão no conjunto de validação começou em 36,49% e alcançou 42,43% na quinta época. <br>\n"
      ],
      "metadata": {
        "id": "GMA6v1RdGt2U"
      }
    },
    {
      "cell_type": "markdown",
      "source": [
        "# Conclusão"
      ],
      "metadata": {
        "id": "e-DEG6QeTpN-"
      }
    },
    {
      "cell_type": "markdown",
      "source": [
        "O modelo está aprendendo ao longo das épocas, com um aumento na acurácia e uma diminuição na perda. <br>\n",
        "No entanto, o valor da acurácia do modelo (precisão) é baixo, não superando 50%. <br> Pode-se concluir que o modelo não é tão preciso para detectar e classificar as imagens."
      ],
      "metadata": {
        "id": "ljxcJCbORgtm"
      }
    }
  ],
  "metadata": {
    "colab": {
      "provenance": [],
      "authorship_tag": "ABX9TyNxJu+DH5mJ4M8o3IKUfAPg"
    },
    "kernelspec": {
      "display_name": "Python 3",
      "name": "python3"
    },
    "language_info": {
      "name": "python"
    }
  },
  "nbformat": 4,
  "nbformat_minor": 0
}